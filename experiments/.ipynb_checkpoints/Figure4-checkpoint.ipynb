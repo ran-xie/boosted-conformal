{
 "cells": [
  {
   "cell_type": "markdown",
   "id": "c6961234",
   "metadata": {},
   "source": [
    "# Reproducing Figure 4"
   ]
  },
  {
   "cell_type": "markdown",
   "id": "af257195",
   "metadata": {},
   "source": [
    "The Medical Expenditure Panel Survey (meps) data is subject to copyright and usage rules. Therefore, here we only reproduce Figure 4(b) for the blog dataset."
   ]
  },
  {
   "cell_type": "code",
   "execution_count": 2,
   "id": "c7bc70bd",
   "metadata": {},
   "outputs": [],
   "source": [
    "import numpy as np\n",
    "import random\n",
    "import torch\n",
    "import pandas as pd\n",
    "import os, sys\n",
    "import time\n",
    "from IPython.display import Image\n",
    "import warnings\n",
    "warnings.filterwarnings('ignore')\n",
    "sys.path.insert(0, os.path.abspath(\"..\"))\n",
    "\n",
    "from boostedCP.getData import get_real_data\n",
    "from boostedCP.utils import cqr_preboost,local_preboost,plot_len\n",
    "from boostedCP.gradient_boost import gradient_boost_len\n",
    "from boostedCP.len_local_boost import len_local_boost\n",
    "from boostedCP.len_cqr_boost import len_cqr_boost\n"
   ]
  },
  {
   "cell_type": "markdown",
   "id": "fbb1aac6",
   "metadata": {},
   "source": [
    "## Load the dataset"
   ]
  },
  {
   "cell_type": "code",
   "execution_count": 3,
   "id": "a6f96c24",
   "metadata": {},
   "outputs": [
    {
     "name": "stdout",
     "output_type": "stream",
     "text": [
      "seed  1\n",
      "ratio  10\n",
      "data_name  blog_data\n",
      "Loaded dataset 'blog_data'.\n",
      "Data size: train and calibration (41917, 280), test (10480, 280)\n"
     ]
    }
   ],
   "source": [
    "data_name = \"blog_data\"\n",
    "seed = 1\n",
    "ratio = 10\n",
    "\n",
    "print(\"seed \",seed)\n",
    "print(\"ratio \",ratio)\n",
    "print(\"data_name \",data_name)\n",
    "\n",
    "miscov_rate = 0.1\n",
    "\n",
    "params = dict()\n",
    "params['data']   = data_name              # Name of dataset\n",
    "params['ratio']  = ratio                  # Percentage of data used for training\n",
    "params['seed']   = seed                   # Random seed\n",
    "\n",
    "# Set random seeds\n",
    "random.seed(seed)\n",
    "np.random.seed(seed)\n",
    "torch.manual_seed(seed)\n",
    "\n",
    "# Run experiment\n",
    "X_train, y_train, X_cal, y_cal, X_test, y_test= get_real_data(params)\n"
   ]
  },
  {
   "cell_type": "markdown",
   "id": "b3cd09a6",
   "metadata": {},
   "source": [
    "## Boost on the Local conformity score. This will take around 4 minutes"
   ]
  },
  {
   "cell_type": "code",
   "execution_count": 4,
   "id": "ea7403ee",
   "metadata": {},
   "outputs": [
    {
     "name": "stdout",
     "output_type": "stream",
     "text": [
      "Fitting RF model with 4191 observations...\n",
      "local_cov: 0.8961832061068702\n",
      "local_len: 2.0793675654505908\n",
      "Starting cross-validation for optimal number of boosting rounds...\n",
      "Fold 0 completed.\n",
      "Fold 1 completed.\n",
      "Fold 2 completed.\n",
      "Fold 3 completed.\n",
      "Fold 4 completed.\n",
      "Cross Validation completed.\n",
      "Optimal boosting rounds:  428\n",
      "local_cov: 0.8961832061068702\n",
      "local_len: 2.0793675654505908\n",
      "boosted_cov: 0.9005725190839695\n",
      "boosted_len: 1.0418771072592263\n",
      "--- runtime: 3.842319150765737 minues ---\n"
     ]
    }
   ],
   "source": [
    "start_time = time.time()\n",
    "\n",
    "results_local = len_local_boost(X_train, y_train, X_cal, y_cal,X_test, y_test, \n",
    "                                miscov_rate, seed, n_rounds_cv=500, learning_rate=20, store=True, verbose=False)\n",
    "runtime = time.time() - start_time\n",
    "print(\"--- runtime: %s minues ---\" % (runtime/60))"
   ]
  },
  {
   "cell_type": "markdown",
   "id": "0f0085c5",
   "metadata": {},
   "source": [
    "## Boost on the CQR conformity score. This will take around 5 minutes"
   ]
  },
  {
   "cell_type": "code",
   "execution_count": 5,
   "id": "ef074993",
   "metadata": {},
   "outputs": [
    {
     "name": "stdout",
     "output_type": "stream",
     "text": [
      "Fitting QR model with 4191 observations...\n",
      "Fitting complete.\n",
      "Making predictions using calibration data... done.\n",
      "Making predictions using test data... done.\n",
      "Computing score correction: -0.019\n",
      "Making predictions using test data... done.\n",
      "cqr_cov: 0.9008587786259542\n",
      "cqr_len: 2.0645823\n",
      "Starting cross-validation for optimal number of boosting rounds...\n",
      "Fold 0 completed.\n",
      "Fold 1 completed.\n",
      "Fold 2 completed.\n",
      "Fold 3 completed.\n",
      "Fold 4 completed.\n",
      "Cross Validation completed.\n",
      "Optimal boosting rounds:  79\n",
      "cqr_cov: 0.9008587786259542\n",
      "cqr_len: 2.0645823\n",
      "boosted_cov: 0.9020038167938931\n",
      "boosted_len: 1.745965\n",
      "--- runtime: 5.257514051596323 minues ---\n"
     ]
    }
   ],
   "source": [
    "start_time = time.time()\n",
    "\n",
    "results_cqr = len_cqr_boost(X_train, y_train, X_cal, y_cal,X_test, y_test, \n",
    "                            miscov_rate, seed, n_rounds_cv=500, learning_rate=10, store=True, verbose=False)\n",
    "runtime = time.time() - start_time\n",
    "print(\"--- runtime: %s minues ---\" % (runtime/60))"
   ]
  },
  {
   "cell_type": "markdown",
   "id": "a85b8391",
   "metadata": {},
   "source": [
    "## Compare baseline and boosted conformalized prediction intervals \n",
    "To effectively visualize the impact of boosting, we conduct a regression tree analysis on the training set, setting the maximum number of tree nodes to four. This regression tree is then applied to the test set, allowing for a detailed comparison of the prediction intervals across each of the four distinct leaves."
   ]
  },
  {
   "cell_type": "code",
   "execution_count": 10,
   "id": "69d46b62",
   "metadata": {},
   "outputs": [
    {
     "name": "stdout",
     "output_type": "stream",
     "text": [
      "Loaded dataset 'blog_data'.\n",
      "Data size: train and calibration (41917, 280), test (10480, 280)\n",
      "ratio:  10\n",
      "local_len:  2.0793675654505908\n",
      "local_cov:  0.8961832061068702\n",
      "boosted_len:  1.0418771072592263\n",
      "boosted_cov:  0.9005725190839695\n",
      "cqr_len:  2.0645823\n",
      "cqr_cov:  0.9008587786259542\n",
      "boosted_len:  1.745965\n",
      "boosted_cov:  0.9020038167938931\n",
      "Average Improvement on Local (%):  49.89\n",
      "Average Improvement on CQR (%):  15.43\n"
     ]
    },
    {
     "data": {
      "application/vnd.plotly.v1+json": {
       "config": {
        "plotlyServerURL": "https://plot.ly"
       },
       "data": [
        {
         "boxpoints": false,
         "marker": {
          "color": "#6baed6"
         },
         "name": "local",
         "offsetgroup": "A",
         "type": "box",
         "x": [
          1,
          1,
          1,
          1,
          1
         ],
         "xaxis": "x",
         "y": [
          2.0171981449981122,
          2.0784218326496355,
          2.16999642421905,
          2.317176642184636,
          3.1108912136280087
         ],
         "yaxis": "y"
        },
        {
         "boxpoints": false,
         "marker": {
          "color": "#6baed6"
         },
         "name": "local",
         "offsetgroup": "A",
         "type": "box",
         "x": [
          2,
          2,
          2,
          2,
          2
         ],
         "xaxis": "x",
         "y": [
          1.8756638781553125,
          1.8937616378953852,
          1.9351912398759061,
          1.9882322370385093,
          2.0232375722518925
         ],
         "yaxis": "y"
        },
        {
         "boxpoints": false,
         "marker": {
          "color": "#6baed6"
         },
         "name": "local",
         "offsetgroup": "A",
         "type": "box",
         "x": [
          3,
          3,
          3,
          3,
          3
         ],
         "xaxis": "x",
         "y": [
          1.8535033823870162,
          1.8683763185567699,
          1.8987382683419605,
          1.9366271260347292,
          1.9691182949969033
         ],
         "yaxis": "y"
        },
        {
         "boxpoints": false,
         "marker": {
          "color": "#6baed6"
         },
         "name": "local",
         "offsetgroup": "A",
         "type": "box",
         "x": [
          4,
          4,
          4,
          4,
          4
         ],
         "xaxis": "x",
         "y": [
          1.8748012648905221,
          1.899182104653326,
          1.9612872993532446,
          2.078480455338028,
          2.1256805714410714
         ],
         "yaxis": "y"
        },
        {
         "boxpoints": false,
         "marker": {
          "color": "#fd8d3c"
         },
         "name": "localb",
         "offsetgroup": "B",
         "type": "box",
         "x": [
          1,
          1,
          1,
          1,
          1
         ],
         "xaxis": "x",
         "y": [
          1.5777270390736902,
          1.6540830415153782,
          1.8114302633793393,
          1.9371360577644694,
          2.416119331783449
         ],
         "yaxis": "y"
        },
        {
         "boxpoints": false,
         "marker": {
          "color": "#fd8d3c"
         },
         "name": "localb",
         "offsetgroup": "B",
         "type": "box",
         "x": [
          2,
          2,
          2,
          2,
          2
         ],
         "xaxis": "x",
         "y": [
          0.5273921653307213,
          0.6056192453032104,
          0.8235444141343713,
          1.0922009513534796,
          1.287594495893958
         ],
         "yaxis": "y"
        },
        {
         "boxpoints": false,
         "marker": {
          "color": "#fd8d3c"
         },
         "name": "localb",
         "offsetgroup": "B",
         "type": "box",
         "x": [
          3,
          3,
          3,
          3,
          3
         ],
         "xaxis": "x",
         "y": [
          0.45408210690443435,
          0.5307671692514776,
          0.7178103113878798,
          0.915079488225362,
          1.1180937450605672
         ],
         "yaxis": "y"
        },
        {
         "boxpoints": false,
         "marker": {
          "color": "#fd8d3c"
         },
         "name": "localb",
         "offsetgroup": "B",
         "type": "box",
         "x": [
          4,
          4,
          4,
          4,
          4
         ],
         "xaxis": "x",
         "y": [
          1.3484840985423716,
          1.397221225414744,
          1.5082585365384564,
          1.6331038243736846,
          1.6906150911506272
         ],
         "yaxis": "y"
        },
        {
         "boxpoints": false,
         "marker": {
          "color": "#31a354"
         },
         "name": "log(local/localb)",
         "offsetgroup": "C",
         "type": "box",
         "x": [
          1,
          1,
          1,
          1,
          1
         ],
         "xaxis": "x2",
         "y": [
          0.16939305129931195,
          0.18032638529271275,
          0.21965556099865696,
          0.27328993027401227,
          0.3431627209351761
         ],
         "yaxis": "y2"
        },
        {
         "boxpoints": false,
         "marker": {
          "color": "#31a354"
         },
         "name": "log(local/localb)",
         "offsetgroup": "C",
         "type": "box",
         "x": [
          2,
          2,
          2,
          2,
          2
         ],
         "xaxis": "x2",
         "y": [
          0.3862928051875865,
          0.603818658832326,
          0.872605988893712,
          1.167277289561181,
          1.296096635899888
         ],
         "yaxis": "y2"
        },
        {
         "boxpoints": false,
         "marker": {
          "color": "#31a354"
         },
         "name": "log(local/localb)",
         "offsetgroup": "C",
         "type": "box",
         "x": [
          3,
          3,
          3,
          3,
          3
         ],
         "xaxis": "x2",
         "y": [
          0.5843259193744201,
          0.7514812592427865,
          0.9576335448218193,
          1.2751737419713238,
          1.4240352252002235
         ],
         "yaxis": "y2"
        },
        {
         "boxpoints": false,
         "marker": {
          "color": "#31a354"
         },
         "name": "log(local/localb)",
         "offsetgroup": "C",
         "type": "box",
         "x": [
          4,
          4,
          4,
          4,
          4
         ],
         "xaxis": "x2",
         "y": [
          0.20930771195733414,
          0.24068448160219694,
          0.27207113098542957,
          0.3192795428508664,
          0.35981888529947376
         ],
         "yaxis": "y2"
        },
        {
         "boxpoints": false,
         "marker": {
          "color": "#6baed6"
         },
         "name": "cqr",
         "offsetgroup": "A",
         "type": "box",
         "x": [
          1,
          1,
          1,
          1,
          1
         ],
         "xaxis": "x3",
         "y": [
          2.0587752342224124,
          2.5855039834976195,
          3.558419704437256,
          5.000381517410276,
          7.129650878906251
         ],
         "yaxis": "y3"
        },
        {
         "boxpoints": false,
         "marker": {
          "color": "#6baed6"
         },
         "name": "cqr",
         "offsetgroup": "A",
         "type": "box",
         "x": [
          2,
          2,
          2,
          2,
          2
         ],
         "xaxis": "x3",
         "y": [
          0.6753110527992249,
          0.8137733578681946,
          1.1267919540405273,
          1.8071273803710937,
          2.3428930282592786
         ],
         "yaxis": "y3"
        },
        {
         "boxpoints": false,
         "marker": {
          "color": "#6baed6"
         },
         "name": "cqr",
         "offsetgroup": "A",
         "type": "box",
         "x": [
          3,
          3,
          3,
          3,
          3
         ],
         "xaxis": "x3",
         "y": [
          0.5484310984611511,
          0.6623820900917053,
          0.9986987113952637,
          1.6927252292633042,
          2.285824251174927
         ],
         "yaxis": "y3"
        },
        {
         "boxpoints": false,
         "marker": {
          "color": "#6baed6"
         },
         "name": "cqr",
         "offsetgroup": "A",
         "type": "box",
         "x": [
          4,
          4,
          4,
          4,
          4
         ],
         "xaxis": "x3",
         "y": [
          0.8424465417861938,
          1.1232154488563537,
          2.0180153846740723,
          2.9975689888000487,
          3.6068278789520263
         ],
         "yaxis": "y3"
        },
        {
         "boxpoints": false,
         "marker": {
          "color": "#fd8d3c"
         },
         "name": "cqrb",
         "offsetgroup": "B",
         "type": "box",
         "x": [
          1,
          1,
          1,
          1,
          1
         ],
         "xaxis": "x3",
         "y": [
          1.7886212348937989,
          2.2046727180480956,
          2.9774205684661865,
          4.133800792694092,
          5.859651374816894
         ],
         "yaxis": "y3"
        },
        {
         "boxpoints": false,
         "marker": {
          "color": "#fd8d3c"
         },
         "name": "cqrb",
         "offsetgroup": "B",
         "type": "box",
         "x": [
          2,
          2,
          2,
          2,
          2
         ],
         "xaxis": "x3",
         "y": [
          0.6515386700630188,
          0.745210075378418,
          1.0351837873458862,
          1.6189537763595578,
          2.0378086090087897
         ],
         "yaxis": "y3"
        },
        {
         "boxpoints": false,
         "marker": {
          "color": "#fd8d3c"
         },
         "name": "cqrb",
         "offsetgroup": "B",
         "type": "box",
         "x": [
          3,
          3,
          3,
          3,
          3
         ],
         "xaxis": "x3",
         "y": [
          0.4933828830718994,
          0.5998097062110901,
          0.8765612840652466,
          1.4511019229888913,
          1.9383507013320924
         ],
         "yaxis": "y3"
        },
        {
         "boxpoints": false,
         "marker": {
          "color": "#fd8d3c"
         },
         "name": "cqrb",
         "offsetgroup": "B",
         "type": "box",
         "x": [
          4,
          4,
          4,
          4,
          4
         ],
         "xaxis": "x3",
         "y": [
          0.7738229036331177,
          1.0473222732543945,
          1.7452495098114014,
          2.4899881362915037,
          3.003913974761963
         ],
         "yaxis": "y3"
        },
        {
         "boxpoints": false,
         "marker": {
          "color": "#31a354"
         },
         "name": "log(cqr/cqrb)",
         "offsetgroup": "C",
         "type": "box",
         "x": [
          1,
          1,
          1,
          1,
          1
         ],
         "xaxis": "x4",
         "y": [
          0.1350758820772171,
          0.15600969940423964,
          0.1809917688369751,
          0.1957284018397331,
          0.2029575914144516
         ],
         "yaxis": "y4"
        },
        {
         "boxpoints": false,
         "marker": {
          "color": "#31a354"
         },
         "name": "log(cqr/cqrb)",
         "offsetgroup": "C",
         "type": "box",
         "x": [
          2,
          2,
          2,
          2,
          2
         ],
         "xaxis": "x4",
         "y": [
          0.03401579633355141,
          0.06914730370044708,
          0.10903016477823257,
          0.1452768564224243,
          0.16313372850418092
         ],
         "yaxis": "y4"
        },
        {
         "boxpoints": false,
         "marker": {
          "color": "#31a354"
         },
         "name": "log(cqr/cqrb)",
         "offsetgroup": "C",
         "type": "box",
         "x": [
          3,
          3,
          3,
          3,
          3
         ],
         "xaxis": "x4",
         "y": [
          0.07447047829627991,
          0.10460797548294068,
          0.1454346776008606,
          0.1829145848751068,
          0.20126629173755647
         ],
         "yaxis": "y4"
        },
        {
         "boxpoints": false,
         "marker": {
          "color": "#31a354"
         },
         "name": "log(cqr/cqrb)",
         "offsetgroup": "C",
         "type": "box",
         "x": [
          4,
          4,
          4,
          4,
          4
         ],
         "xaxis": "x4",
         "y": [
          0.0629050001502037,
          0.09009309709072112,
          0.13942953944206238,
          0.17337481677532196,
          0.19008226096630096
         ],
         "yaxis": "y4"
        }
       ],
       "layout": {
        "annotations": [
         {
          "align": "center",
          "font": {
           "color": "black",
           "family": "Arial, sans-serif",
           "size": 16
          },
          "showarrow": false,
          "text": "Local Power",
          "x": 2.5,
          "xanchor": "center",
          "xref": "x",
          "y": 1.01,
          "yanchor": "bottom",
          "yref": "paper"
         },
         {
          "align": "center",
          "font": {
           "color": "black",
           "family": "Arial, sans-serif",
           "size": 16
          },
          "showarrow": false,
          "text": "Local Log Ratio",
          "x": 2.5,
          "xanchor": "center",
          "xref": "x2",
          "y": 1.01,
          "yanchor": "bottom",
          "yref": "paper"
         },
         {
          "align": "center",
          "font": {
           "color": "black",
           "family": "Arial, sans-serif",
           "size": 16
          },
          "showarrow": false,
          "text": "CQR Power",
          "x": 2.5,
          "xanchor": "center",
          "xref": "x3",
          "y": 1.01,
          "yanchor": "bottom",
          "yref": "paper"
         },
         {
          "align": "center",
          "font": {
           "color": "black",
           "family": "Arial, sans-serif",
           "size": 16
          },
          "showarrow": false,
          "text": "CQR Log Ratio",
          "x": 2.5,
          "xanchor": "center",
          "xref": "x4",
          "y": 1.01,
          "yanchor": "bottom",
          "yref": "paper"
         },
         {
          "font": {
           "size": 14
          },
          "showarrow": false,
          "text": "Classical",
          "x": 0.36,
          "xanchor": "left",
          "xref": "paper",
          "y": 1.275,
          "yanchor": "middle",
          "yref": "paper"
         },
         {
          "font": {
           "size": 14
          },
          "showarrow": false,
          "text": "Boosted",
          "x": 0.48,
          "xanchor": "left",
          "xref": "paper",
          "y": 1.275,
          "yanchor": "middle",
          "yref": "paper"
         },
         {
          "font": {
           "size": 14
          },
          "showarrow": false,
          "text": "Log Ratio",
          "x": 0.5900000000000001,
          "xanchor": "left",
          "xref": "paper",
          "y": 1.275,
          "yanchor": "middle",
          "yref": "paper"
         },
         {
          "font": {
           "size": 14
          },
          "showarrow": false,
          "text": "regression tree leaf",
          "x": 0.4,
          "xanchor": "left",
          "xref": "paper",
          "y": -0.2,
          "yanchor": "middle",
          "yref": "paper"
         }
        ],
        "boxgap": 0.6,
        "boxgroupgap": 0.25,
        "boxmode": "group",
        "height": 350,
        "margin": {
         "b": 70,
         "l": 0,
         "r": 0,
         "t": 90
        },
        "paper_bgcolor": "white",
        "plot_bgcolor": "white",
        "shapes": [
         {
          "fillcolor": "lightgray",
          "line": {
           "color": "black",
           "width": 1
          },
          "type": "rect",
          "x0": -0.0005,
          "x1": 0.2555,
          "xref": "paper",
          "y0": 1,
          "y1": 1.15,
          "yref": "paper"
         },
         {
          "fillcolor": "lightgray",
          "line": {
           "color": "black",
           "width": 1
          },
          "type": "rect",
          "x0": 0.3044,
          "x1": 0.4755,
          "xref": "paper",
          "y0": 1,
          "y1": 1.15,
          "yref": "paper"
         },
         {
          "fillcolor": "lightgray",
          "line": {
           "color": "black",
           "width": 1
          },
          "type": "rect",
          "x0": 0.5244,
          "x1": 0.7804,
          "xref": "paper",
          "y0": 1,
          "y1": 1.15,
          "yref": "paper"
         },
         {
          "fillcolor": "lightgray",
          "line": {
           "color": "black",
           "width": 1
          },
          "type": "rect",
          "x0": 0.8292,
          "x1": 1.0003,
          "xref": "paper",
          "y0": 1,
          "y1": 1.15,
          "yref": "paper"
         },
         {
          "fillcolor": "#6baed6",
          "line": {
           "color": "#6baed6",
           "width": 2
          },
          "type": "rect",
          "x0": 0.32,
          "x1": 0.35,
          "xref": "paper",
          "y0": 1.25,
          "y1": 1.3,
          "yref": "paper"
         },
         {
          "fillcolor": "#fd8d3c",
          "line": {
           "color": "#fd8d3c",
           "width": 2
          },
          "type": "rect",
          "x0": 0.44,
          "x1": 0.47,
          "xref": "paper",
          "y0": 1.25,
          "y1": 1.3,
          "yref": "paper"
         },
         {
          "fillcolor": "#31a354",
          "line": {
           "color": "#31a354",
           "width": 2
          },
          "type": "rect",
          "x0": 0.55,
          "x1": 0.5800000000000001,
          "xref": "paper",
          "y0": 1.25,
          "y1": 1.3,
          "yref": "paper"
         }
        ],
        "showlegend": false,
        "template": {
         "data": {
          "bar": [
           {
            "error_x": {
             "color": "#2a3f5f"
            },
            "error_y": {
             "color": "#2a3f5f"
            },
            "marker": {
             "line": {
              "color": "#E5ECF6",
              "width": 0.5
             },
             "pattern": {
              "fillmode": "overlay",
              "size": 10,
              "solidity": 0.2
             }
            },
            "type": "bar"
           }
          ],
          "barpolar": [
           {
            "marker": {
             "line": {
              "color": "#E5ECF6",
              "width": 0.5
             },
             "pattern": {
              "fillmode": "overlay",
              "size": 10,
              "solidity": 0.2
             }
            },
            "type": "barpolar"
           }
          ],
          "carpet": [
           {
            "aaxis": {
             "endlinecolor": "#2a3f5f",
             "gridcolor": "white",
             "linecolor": "white",
             "minorgridcolor": "white",
             "startlinecolor": "#2a3f5f"
            },
            "baxis": {
             "endlinecolor": "#2a3f5f",
             "gridcolor": "white",
             "linecolor": "white",
             "minorgridcolor": "white",
             "startlinecolor": "#2a3f5f"
            },
            "type": "carpet"
           }
          ],
          "choropleth": [
           {
            "colorbar": {
             "outlinewidth": 0,
             "ticks": ""
            },
            "type": "choropleth"
           }
          ],
          "contour": [
           {
            "colorbar": {
             "outlinewidth": 0,
             "ticks": ""
            },
            "colorscale": [
             [
              0,
              "#0d0887"
             ],
             [
              0.1111111111111111,
              "#46039f"
             ],
             [
              0.2222222222222222,
              "#7201a8"
             ],
             [
              0.3333333333333333,
              "#9c179e"
             ],
             [
              0.4444444444444444,
              "#bd3786"
             ],
             [
              0.5555555555555556,
              "#d8576b"
             ],
             [
              0.6666666666666666,
              "#ed7953"
             ],
             [
              0.7777777777777778,
              "#fb9f3a"
             ],
             [
              0.8888888888888888,
              "#fdca26"
             ],
             [
              1,
              "#f0f921"
             ]
            ],
            "type": "contour"
           }
          ],
          "contourcarpet": [
           {
            "colorbar": {
             "outlinewidth": 0,
             "ticks": ""
            },
            "type": "contourcarpet"
           }
          ],
          "heatmap": [
           {
            "colorbar": {
             "outlinewidth": 0,
             "ticks": ""
            },
            "colorscale": [
             [
              0,
              "#0d0887"
             ],
             [
              0.1111111111111111,
              "#46039f"
             ],
             [
              0.2222222222222222,
              "#7201a8"
             ],
             [
              0.3333333333333333,
              "#9c179e"
             ],
             [
              0.4444444444444444,
              "#bd3786"
             ],
             [
              0.5555555555555556,
              "#d8576b"
             ],
             [
              0.6666666666666666,
              "#ed7953"
             ],
             [
              0.7777777777777778,
              "#fb9f3a"
             ],
             [
              0.8888888888888888,
              "#fdca26"
             ],
             [
              1,
              "#f0f921"
             ]
            ],
            "type": "heatmap"
           }
          ],
          "heatmapgl": [
           {
            "colorbar": {
             "outlinewidth": 0,
             "ticks": ""
            },
            "colorscale": [
             [
              0,
              "#0d0887"
             ],
             [
              0.1111111111111111,
              "#46039f"
             ],
             [
              0.2222222222222222,
              "#7201a8"
             ],
             [
              0.3333333333333333,
              "#9c179e"
             ],
             [
              0.4444444444444444,
              "#bd3786"
             ],
             [
              0.5555555555555556,
              "#d8576b"
             ],
             [
              0.6666666666666666,
              "#ed7953"
             ],
             [
              0.7777777777777778,
              "#fb9f3a"
             ],
             [
              0.8888888888888888,
              "#fdca26"
             ],
             [
              1,
              "#f0f921"
             ]
            ],
            "type": "heatmapgl"
           }
          ],
          "histogram": [
           {
            "marker": {
             "pattern": {
              "fillmode": "overlay",
              "size": 10,
              "solidity": 0.2
             }
            },
            "type": "histogram"
           }
          ],
          "histogram2d": [
           {
            "colorbar": {
             "outlinewidth": 0,
             "ticks": ""
            },
            "colorscale": [
             [
              0,
              "#0d0887"
             ],
             [
              0.1111111111111111,
              "#46039f"
             ],
             [
              0.2222222222222222,
              "#7201a8"
             ],
             [
              0.3333333333333333,
              "#9c179e"
             ],
             [
              0.4444444444444444,
              "#bd3786"
             ],
             [
              0.5555555555555556,
              "#d8576b"
             ],
             [
              0.6666666666666666,
              "#ed7953"
             ],
             [
              0.7777777777777778,
              "#fb9f3a"
             ],
             [
              0.8888888888888888,
              "#fdca26"
             ],
             [
              1,
              "#f0f921"
             ]
            ],
            "type": "histogram2d"
           }
          ],
          "histogram2dcontour": [
           {
            "colorbar": {
             "outlinewidth": 0,
             "ticks": ""
            },
            "colorscale": [
             [
              0,
              "#0d0887"
             ],
             [
              0.1111111111111111,
              "#46039f"
             ],
             [
              0.2222222222222222,
              "#7201a8"
             ],
             [
              0.3333333333333333,
              "#9c179e"
             ],
             [
              0.4444444444444444,
              "#bd3786"
             ],
             [
              0.5555555555555556,
              "#d8576b"
             ],
             [
              0.6666666666666666,
              "#ed7953"
             ],
             [
              0.7777777777777778,
              "#fb9f3a"
             ],
             [
              0.8888888888888888,
              "#fdca26"
             ],
             [
              1,
              "#f0f921"
             ]
            ],
            "type": "histogram2dcontour"
           }
          ],
          "mesh3d": [
           {
            "colorbar": {
             "outlinewidth": 0,
             "ticks": ""
            },
            "type": "mesh3d"
           }
          ],
          "parcoords": [
           {
            "line": {
             "colorbar": {
              "outlinewidth": 0,
              "ticks": ""
             }
            },
            "type": "parcoords"
           }
          ],
          "pie": [
           {
            "automargin": true,
            "type": "pie"
           }
          ],
          "scatter": [
           {
            "fillpattern": {
             "fillmode": "overlay",
             "size": 10,
             "solidity": 0.2
            },
            "type": "scatter"
           }
          ],
          "scatter3d": [
           {
            "line": {
             "colorbar": {
              "outlinewidth": 0,
              "ticks": ""
             }
            },
            "marker": {
             "colorbar": {
              "outlinewidth": 0,
              "ticks": ""
             }
            },
            "type": "scatter3d"
           }
          ],
          "scattercarpet": [
           {
            "marker": {
             "colorbar": {
              "outlinewidth": 0,
              "ticks": ""
             }
            },
            "type": "scattercarpet"
           }
          ],
          "scattergeo": [
           {
            "marker": {
             "colorbar": {
              "outlinewidth": 0,
              "ticks": ""
             }
            },
            "type": "scattergeo"
           }
          ],
          "scattergl": [
           {
            "marker": {
             "colorbar": {
              "outlinewidth": 0,
              "ticks": ""
             }
            },
            "type": "scattergl"
           }
          ],
          "scattermapbox": [
           {
            "marker": {
             "colorbar": {
              "outlinewidth": 0,
              "ticks": ""
             }
            },
            "type": "scattermapbox"
           }
          ],
          "scatterpolar": [
           {
            "marker": {
             "colorbar": {
              "outlinewidth": 0,
              "ticks": ""
             }
            },
            "type": "scatterpolar"
           }
          ],
          "scatterpolargl": [
           {
            "marker": {
             "colorbar": {
              "outlinewidth": 0,
              "ticks": ""
             }
            },
            "type": "scatterpolargl"
           }
          ],
          "scatterternary": [
           {
            "marker": {
             "colorbar": {
              "outlinewidth": 0,
              "ticks": ""
             }
            },
            "type": "scatterternary"
           }
          ],
          "surface": [
           {
            "colorbar": {
             "outlinewidth": 0,
             "ticks": ""
            },
            "colorscale": [
             [
              0,
              "#0d0887"
             ],
             [
              0.1111111111111111,
              "#46039f"
             ],
             [
              0.2222222222222222,
              "#7201a8"
             ],
             [
              0.3333333333333333,
              "#9c179e"
             ],
             [
              0.4444444444444444,
              "#bd3786"
             ],
             [
              0.5555555555555556,
              "#d8576b"
             ],
             [
              0.6666666666666666,
              "#ed7953"
             ],
             [
              0.7777777777777778,
              "#fb9f3a"
             ],
             [
              0.8888888888888888,
              "#fdca26"
             ],
             [
              1,
              "#f0f921"
             ]
            ],
            "type": "surface"
           }
          ],
          "table": [
           {
            "cells": {
             "fill": {
              "color": "#EBF0F8"
             },
             "line": {
              "color": "white"
             }
            },
            "header": {
             "fill": {
              "color": "#C8D4E3"
             },
             "line": {
              "color": "white"
             }
            },
            "type": "table"
           }
          ]
         },
         "layout": {
          "annotationdefaults": {
           "arrowcolor": "#2a3f5f",
           "arrowhead": 0,
           "arrowwidth": 1
          },
          "autotypenumbers": "strict",
          "coloraxis": {
           "colorbar": {
            "outlinewidth": 0,
            "ticks": ""
           }
          },
          "colorscale": {
           "diverging": [
            [
             0,
             "#8e0152"
            ],
            [
             0.1,
             "#c51b7d"
            ],
            [
             0.2,
             "#de77ae"
            ],
            [
             0.3,
             "#f1b6da"
            ],
            [
             0.4,
             "#fde0ef"
            ],
            [
             0.5,
             "#f7f7f7"
            ],
            [
             0.6,
             "#e6f5d0"
            ],
            [
             0.7,
             "#b8e186"
            ],
            [
             0.8,
             "#7fbc41"
            ],
            [
             0.9,
             "#4d9221"
            ],
            [
             1,
             "#276419"
            ]
           ],
           "sequential": [
            [
             0,
             "#0d0887"
            ],
            [
             0.1111111111111111,
             "#46039f"
            ],
            [
             0.2222222222222222,
             "#7201a8"
            ],
            [
             0.3333333333333333,
             "#9c179e"
            ],
            [
             0.4444444444444444,
             "#bd3786"
            ],
            [
             0.5555555555555556,
             "#d8576b"
            ],
            [
             0.6666666666666666,
             "#ed7953"
            ],
            [
             0.7777777777777778,
             "#fb9f3a"
            ],
            [
             0.8888888888888888,
             "#fdca26"
            ],
            [
             1,
             "#f0f921"
            ]
           ],
           "sequentialminus": [
            [
             0,
             "#0d0887"
            ],
            [
             0.1111111111111111,
             "#46039f"
            ],
            [
             0.2222222222222222,
             "#7201a8"
            ],
            [
             0.3333333333333333,
             "#9c179e"
            ],
            [
             0.4444444444444444,
             "#bd3786"
            ],
            [
             0.5555555555555556,
             "#d8576b"
            ],
            [
             0.6666666666666666,
             "#ed7953"
            ],
            [
             0.7777777777777778,
             "#fb9f3a"
            ],
            [
             0.8888888888888888,
             "#fdca26"
            ],
            [
             1,
             "#f0f921"
            ]
           ]
          },
          "colorway": [
           "#636efa",
           "#EF553B",
           "#00cc96",
           "#ab63fa",
           "#FFA15A",
           "#19d3f3",
           "#FF6692",
           "#B6E880",
           "#FF97FF",
           "#FECB52"
          ],
          "font": {
           "color": "#2a3f5f"
          },
          "geo": {
           "bgcolor": "white",
           "lakecolor": "white",
           "landcolor": "#E5ECF6",
           "showlakes": true,
           "showland": true,
           "subunitcolor": "white"
          },
          "hoverlabel": {
           "align": "left"
          },
          "hovermode": "closest",
          "mapbox": {
           "style": "light"
          },
          "paper_bgcolor": "white",
          "plot_bgcolor": "#E5ECF6",
          "polar": {
           "angularaxis": {
            "gridcolor": "white",
            "linecolor": "white",
            "ticks": ""
           },
           "bgcolor": "#E5ECF6",
           "radialaxis": {
            "gridcolor": "white",
            "linecolor": "white",
            "ticks": ""
           }
          },
          "scene": {
           "xaxis": {
            "backgroundcolor": "#E5ECF6",
            "gridcolor": "white",
            "gridwidth": 2,
            "linecolor": "white",
            "showbackground": true,
            "ticks": "",
            "zerolinecolor": "white"
           },
           "yaxis": {
            "backgroundcolor": "#E5ECF6",
            "gridcolor": "white",
            "gridwidth": 2,
            "linecolor": "white",
            "showbackground": true,
            "ticks": "",
            "zerolinecolor": "white"
           },
           "zaxis": {
            "backgroundcolor": "#E5ECF6",
            "gridcolor": "white",
            "gridwidth": 2,
            "linecolor": "white",
            "showbackground": true,
            "ticks": "",
            "zerolinecolor": "white"
           }
          },
          "shapedefaults": {
           "line": {
            "color": "#2a3f5f"
           }
          },
          "ternary": {
           "aaxis": {
            "gridcolor": "white",
            "linecolor": "white",
            "ticks": ""
           },
           "baxis": {
            "gridcolor": "white",
            "linecolor": "white",
            "ticks": ""
           },
           "bgcolor": "#E5ECF6",
           "caxis": {
            "gridcolor": "white",
            "linecolor": "white",
            "ticks": ""
           }
          },
          "title": {
           "x": 0.05
          },
          "xaxis": {
           "automargin": true,
           "gridcolor": "white",
           "linecolor": "white",
           "ticks": "",
           "title": {
            "standoff": 15
           },
           "zerolinecolor": "white",
           "zerolinewidth": 2
          },
          "yaxis": {
           "automargin": true,
           "gridcolor": "white",
           "linecolor": "white",
           "ticks": "",
           "title": {
            "standoff": 15
           },
           "zerolinecolor": "white",
           "zerolinewidth": 2
          }
         }
        },
        "width": 1000,
        "xaxis": {
         "anchor": "y",
         "domain": [
          0,
          0.255
         ],
         "dtick": 1,
         "gridcolor": "lightgrey",
         "linecolor": "black",
         "linewidth": 1,
         "mirror": true,
         "showgrid": true,
         "tickmode": "linear"
        },
        "xaxis2": {
         "anchor": "y2",
         "domain": [
          0.305,
          0.475
         ],
         "dtick": 1,
         "gridcolor": "lightgrey",
         "linecolor": "black",
         "linewidth": 1,
         "mirror": true,
         "showgrid": true,
         "tickmode": "linear"
        },
        "xaxis3": {
         "anchor": "y3",
         "domain": [
          0.525,
          0.78
         ],
         "dtick": 1,
         "gridcolor": "lightgrey",
         "linecolor": "black",
         "linewidth": 1,
         "mirror": true,
         "showgrid": true,
         "tickmode": "linear"
        },
        "xaxis4": {
         "anchor": "y4",
         "domain": [
          0.8300000000000001,
          1
         ],
         "dtick": 1,
         "gridcolor": "lightgrey",
         "linecolor": "black",
         "linewidth": 1,
         "mirror": true,
         "showgrid": true,
         "tickmode": "linear"
        },
        "yaxis": {
         "anchor": "x",
         "domain": [
          0,
          1
         ],
         "gridcolor": "lightgrey",
         "gridwidth": 0.1,
         "linecolor": "black",
         "linewidth": 1,
         "mirror": true,
         "showgrid": true,
         "zeroline": true,
         "zerolinecolor": "lightgrey",
         "zerolinewidth": 0.1
        },
        "yaxis2": {
         "anchor": "x2",
         "domain": [
          0,
          1
         ],
         "gridcolor": "lightgrey",
         "gridwidth": 0.1,
         "linecolor": "black",
         "linewidth": 1,
         "mirror": true,
         "showgrid": true,
         "zeroline": true,
         "zerolinecolor": "lightgrey",
         "zerolinewidth": 0.1
        },
        "yaxis3": {
         "anchor": "x3",
         "domain": [
          0,
          1
         ],
         "gridcolor": "lightgrey",
         "gridwidth": 0.1,
         "linecolor": "black",
         "linewidth": 1,
         "mirror": true,
         "showgrid": true,
         "zeroline": true,
         "zerolinecolor": "lightgrey",
         "zerolinewidth": 0.1
        },
        "yaxis4": {
         "anchor": "x4",
         "domain": [
          0,
          1
         ],
         "gridcolor": "lightgrey",
         "gridwidth": 0.1,
         "linecolor": "black",
         "linewidth": 1,
         "mirror": true,
         "showgrid": true,
         "zeroline": true,
         "zerolinecolor": "lightgrey",
         "zerolinewidth": 0.1
        }
       }
      },
      "text/html": [
       "<div>                            <div id=\"29ab3155-95b4-4aca-9a55-daef58a899d1\" class=\"plotly-graph-div\" style=\"height:350px; width:1000px;\"></div>            <script type=\"text/javascript\">                require([\"plotly\"], function(Plotly) {                    window.PLOTLYENV=window.PLOTLYENV || {};                                    if (document.getElementById(\"29ab3155-95b4-4aca-9a55-daef58a899d1\")) {                    Plotly.newPlot(                        \"29ab3155-95b4-4aca-9a55-daef58a899d1\",                        [{\"boxpoints\":false,\"marker\":{\"color\":\"#6baed6\"},\"name\":\"local\",\"offsetgroup\":\"A\",\"x\":[1,1,1,1,1],\"y\":[2.0171981449981122,2.0784218326496355,2.16999642421905,2.317176642184636,3.1108912136280087],\"type\":\"box\",\"xaxis\":\"x\",\"yaxis\":\"y\"},{\"boxpoints\":false,\"marker\":{\"color\":\"#6baed6\"},\"name\":\"local\",\"offsetgroup\":\"A\",\"x\":[2,2,2,2,2],\"y\":[1.8756638781553125,1.8937616378953852,1.9351912398759061,1.9882322370385093,2.0232375722518925],\"type\":\"box\",\"xaxis\":\"x\",\"yaxis\":\"y\"},{\"boxpoints\":false,\"marker\":{\"color\":\"#6baed6\"},\"name\":\"local\",\"offsetgroup\":\"A\",\"x\":[3,3,3,3,3],\"y\":[1.8535033823870162,1.8683763185567699,1.8987382683419605,1.9366271260347292,1.9691182949969033],\"type\":\"box\",\"xaxis\":\"x\",\"yaxis\":\"y\"},{\"boxpoints\":false,\"marker\":{\"color\":\"#6baed6\"},\"name\":\"local\",\"offsetgroup\":\"A\",\"x\":[4,4,4,4,4],\"y\":[1.8748012648905221,1.899182104653326,1.9612872993532446,2.078480455338028,2.1256805714410714],\"type\":\"box\",\"xaxis\":\"x\",\"yaxis\":\"y\"},{\"boxpoints\":false,\"marker\":{\"color\":\"#fd8d3c\"},\"name\":\"localb\",\"offsetgroup\":\"B\",\"x\":[1,1,1,1,1],\"y\":[1.5777270390736902,1.6540830415153782,1.8114302633793393,1.9371360577644694,2.416119331783449],\"type\":\"box\",\"xaxis\":\"x\",\"yaxis\":\"y\"},{\"boxpoints\":false,\"marker\":{\"color\":\"#fd8d3c\"},\"name\":\"localb\",\"offsetgroup\":\"B\",\"x\":[2,2,2,2,2],\"y\":[0.5273921653307213,0.6056192453032104,0.8235444141343713,1.0922009513534796,1.287594495893958],\"type\":\"box\",\"xaxis\":\"x\",\"yaxis\":\"y\"},{\"boxpoints\":false,\"marker\":{\"color\":\"#fd8d3c\"},\"name\":\"localb\",\"offsetgroup\":\"B\",\"x\":[3,3,3,3,3],\"y\":[0.45408210690443435,0.5307671692514776,0.7178103113878798,0.915079488225362,1.1180937450605672],\"type\":\"box\",\"xaxis\":\"x\",\"yaxis\":\"y\"},{\"boxpoints\":false,\"marker\":{\"color\":\"#fd8d3c\"},\"name\":\"localb\",\"offsetgroup\":\"B\",\"x\":[4,4,4,4,4],\"y\":[1.3484840985423716,1.397221225414744,1.5082585365384564,1.6331038243736846,1.6906150911506272],\"type\":\"box\",\"xaxis\":\"x\",\"yaxis\":\"y\"},{\"boxpoints\":false,\"marker\":{\"color\":\"#31a354\"},\"name\":\"log(local/localb)\",\"offsetgroup\":\"C\",\"x\":[1,1,1,1,1],\"y\":[0.16939305129931195,0.18032638529271275,0.21965556099865696,0.27328993027401227,0.3431627209351761],\"type\":\"box\",\"xaxis\":\"x2\",\"yaxis\":\"y2\"},{\"boxpoints\":false,\"marker\":{\"color\":\"#31a354\"},\"name\":\"log(local/localb)\",\"offsetgroup\":\"C\",\"x\":[2,2,2,2,2],\"y\":[0.3862928051875865,0.603818658832326,0.872605988893712,1.167277289561181,1.296096635899888],\"type\":\"box\",\"xaxis\":\"x2\",\"yaxis\":\"y2\"},{\"boxpoints\":false,\"marker\":{\"color\":\"#31a354\"},\"name\":\"log(local/localb)\",\"offsetgroup\":\"C\",\"x\":[3,3,3,3,3],\"y\":[0.5843259193744201,0.7514812592427865,0.9576335448218193,1.2751737419713238,1.4240352252002235],\"type\":\"box\",\"xaxis\":\"x2\",\"yaxis\":\"y2\"},{\"boxpoints\":false,\"marker\":{\"color\":\"#31a354\"},\"name\":\"log(local/localb)\",\"offsetgroup\":\"C\",\"x\":[4,4,4,4,4],\"y\":[0.20930771195733414,0.24068448160219694,0.27207113098542957,0.3192795428508664,0.35981888529947376],\"type\":\"box\",\"xaxis\":\"x2\",\"yaxis\":\"y2\"},{\"boxpoints\":false,\"marker\":{\"color\":\"#6baed6\"},\"name\":\"cqr\",\"offsetgroup\":\"A\",\"x\":[1,1,1,1,1],\"y\":[2.0587752342224124,2.5855039834976195,3.558419704437256,5.000381517410276,7.129650878906251],\"type\":\"box\",\"xaxis\":\"x3\",\"yaxis\":\"y3\"},{\"boxpoints\":false,\"marker\":{\"color\":\"#6baed6\"},\"name\":\"cqr\",\"offsetgroup\":\"A\",\"x\":[2,2,2,2,2],\"y\":[0.6753110527992249,0.8137733578681946,1.1267919540405273,1.8071273803710937,2.3428930282592786],\"type\":\"box\",\"xaxis\":\"x3\",\"yaxis\":\"y3\"},{\"boxpoints\":false,\"marker\":{\"color\":\"#6baed6\"},\"name\":\"cqr\",\"offsetgroup\":\"A\",\"x\":[3,3,3,3,3],\"y\":[0.5484310984611511,0.6623820900917053,0.9986987113952637,1.6927252292633042,2.285824251174927],\"type\":\"box\",\"xaxis\":\"x3\",\"yaxis\":\"y3\"},{\"boxpoints\":false,\"marker\":{\"color\":\"#6baed6\"},\"name\":\"cqr\",\"offsetgroup\":\"A\",\"x\":[4,4,4,4,4],\"y\":[0.8424465417861938,1.1232154488563537,2.0180153846740723,2.9975689888000487,3.6068278789520263],\"type\":\"box\",\"xaxis\":\"x3\",\"yaxis\":\"y3\"},{\"boxpoints\":false,\"marker\":{\"color\":\"#fd8d3c\"},\"name\":\"cqrb\",\"offsetgroup\":\"B\",\"x\":[1,1,1,1,1],\"y\":[1.7886212348937989,2.2046727180480956,2.9774205684661865,4.133800792694092,5.859651374816894],\"type\":\"box\",\"xaxis\":\"x3\",\"yaxis\":\"y3\"},{\"boxpoints\":false,\"marker\":{\"color\":\"#fd8d3c\"},\"name\":\"cqrb\",\"offsetgroup\":\"B\",\"x\":[2,2,2,2,2],\"y\":[0.6515386700630188,0.745210075378418,1.0351837873458862,1.6189537763595578,2.0378086090087897],\"type\":\"box\",\"xaxis\":\"x3\",\"yaxis\":\"y3\"},{\"boxpoints\":false,\"marker\":{\"color\":\"#fd8d3c\"},\"name\":\"cqrb\",\"offsetgroup\":\"B\",\"x\":[3,3,3,3,3],\"y\":[0.4933828830718994,0.5998097062110901,0.8765612840652466,1.4511019229888913,1.9383507013320924],\"type\":\"box\",\"xaxis\":\"x3\",\"yaxis\":\"y3\"},{\"boxpoints\":false,\"marker\":{\"color\":\"#fd8d3c\"},\"name\":\"cqrb\",\"offsetgroup\":\"B\",\"x\":[4,4,4,4,4],\"y\":[0.7738229036331177,1.0473222732543945,1.7452495098114014,2.4899881362915037,3.003913974761963],\"type\":\"box\",\"xaxis\":\"x3\",\"yaxis\":\"y3\"},{\"boxpoints\":false,\"marker\":{\"color\":\"#31a354\"},\"name\":\"log(cqr/cqrb)\",\"offsetgroup\":\"C\",\"x\":[1,1,1,1,1],\"y\":[0.1350758820772171,0.15600969940423964,0.1809917688369751,0.1957284018397331,0.2029575914144516],\"type\":\"box\",\"xaxis\":\"x4\",\"yaxis\":\"y4\"},{\"boxpoints\":false,\"marker\":{\"color\":\"#31a354\"},\"name\":\"log(cqr/cqrb)\",\"offsetgroup\":\"C\",\"x\":[2,2,2,2,2],\"y\":[0.03401579633355141,0.06914730370044708,0.10903016477823257,0.1452768564224243,0.16313372850418092],\"type\":\"box\",\"xaxis\":\"x4\",\"yaxis\":\"y4\"},{\"boxpoints\":false,\"marker\":{\"color\":\"#31a354\"},\"name\":\"log(cqr/cqrb)\",\"offsetgroup\":\"C\",\"x\":[3,3,3,3,3],\"y\":[0.07447047829627991,0.10460797548294068,0.1454346776008606,0.1829145848751068,0.20126629173755647],\"type\":\"box\",\"xaxis\":\"x4\",\"yaxis\":\"y4\"},{\"boxpoints\":false,\"marker\":{\"color\":\"#31a354\"},\"name\":\"log(cqr/cqrb)\",\"offsetgroup\":\"C\",\"x\":[4,4,4,4,4],\"y\":[0.0629050001502037,0.09009309709072112,0.13942953944206238,0.17337481677532196,0.19008226096630096],\"type\":\"box\",\"xaxis\":\"x4\",\"yaxis\":\"y4\"}],                        {\"template\":{\"data\":{\"histogram2dcontour\":[{\"type\":\"histogram2dcontour\",\"colorbar\":{\"outlinewidth\":0,\"ticks\":\"\"},\"colorscale\":[[0.0,\"#0d0887\"],[0.1111111111111111,\"#46039f\"],[0.2222222222222222,\"#7201a8\"],[0.3333333333333333,\"#9c179e\"],[0.4444444444444444,\"#bd3786\"],[0.5555555555555556,\"#d8576b\"],[0.6666666666666666,\"#ed7953\"],[0.7777777777777778,\"#fb9f3a\"],[0.8888888888888888,\"#fdca26\"],[1.0,\"#f0f921\"]]}],\"choropleth\":[{\"type\":\"choropleth\",\"colorbar\":{\"outlinewidth\":0,\"ticks\":\"\"}}],\"histogram2d\":[{\"type\":\"histogram2d\",\"colorbar\":{\"outlinewidth\":0,\"ticks\":\"\"},\"colorscale\":[[0.0,\"#0d0887\"],[0.1111111111111111,\"#46039f\"],[0.2222222222222222,\"#7201a8\"],[0.3333333333333333,\"#9c179e\"],[0.4444444444444444,\"#bd3786\"],[0.5555555555555556,\"#d8576b\"],[0.6666666666666666,\"#ed7953\"],[0.7777777777777778,\"#fb9f3a\"],[0.8888888888888888,\"#fdca26\"],[1.0,\"#f0f921\"]]}],\"heatmap\":[{\"type\":\"heatmap\",\"colorbar\":{\"outlinewidth\":0,\"ticks\":\"\"},\"colorscale\":[[0.0,\"#0d0887\"],[0.1111111111111111,\"#46039f\"],[0.2222222222222222,\"#7201a8\"],[0.3333333333333333,\"#9c179e\"],[0.4444444444444444,\"#bd3786\"],[0.5555555555555556,\"#d8576b\"],[0.6666666666666666,\"#ed7953\"],[0.7777777777777778,\"#fb9f3a\"],[0.8888888888888888,\"#fdca26\"],[1.0,\"#f0f921\"]]}],\"heatmapgl\":[{\"type\":\"heatmapgl\",\"colorbar\":{\"outlinewidth\":0,\"ticks\":\"\"},\"colorscale\":[[0.0,\"#0d0887\"],[0.1111111111111111,\"#46039f\"],[0.2222222222222222,\"#7201a8\"],[0.3333333333333333,\"#9c179e\"],[0.4444444444444444,\"#bd3786\"],[0.5555555555555556,\"#d8576b\"],[0.6666666666666666,\"#ed7953\"],[0.7777777777777778,\"#fb9f3a\"],[0.8888888888888888,\"#fdca26\"],[1.0,\"#f0f921\"]]}],\"contourcarpet\":[{\"type\":\"contourcarpet\",\"colorbar\":{\"outlinewidth\":0,\"ticks\":\"\"}}],\"contour\":[{\"type\":\"contour\",\"colorbar\":{\"outlinewidth\":0,\"ticks\":\"\"},\"colorscale\":[[0.0,\"#0d0887\"],[0.1111111111111111,\"#46039f\"],[0.2222222222222222,\"#7201a8\"],[0.3333333333333333,\"#9c179e\"],[0.4444444444444444,\"#bd3786\"],[0.5555555555555556,\"#d8576b\"],[0.6666666666666666,\"#ed7953\"],[0.7777777777777778,\"#fb9f3a\"],[0.8888888888888888,\"#fdca26\"],[1.0,\"#f0f921\"]]}],\"surface\":[{\"type\":\"surface\",\"colorbar\":{\"outlinewidth\":0,\"ticks\":\"\"},\"colorscale\":[[0.0,\"#0d0887\"],[0.1111111111111111,\"#46039f\"],[0.2222222222222222,\"#7201a8\"],[0.3333333333333333,\"#9c179e\"],[0.4444444444444444,\"#bd3786\"],[0.5555555555555556,\"#d8576b\"],[0.6666666666666666,\"#ed7953\"],[0.7777777777777778,\"#fb9f3a\"],[0.8888888888888888,\"#fdca26\"],[1.0,\"#f0f921\"]]}],\"mesh3d\":[{\"type\":\"mesh3d\",\"colorbar\":{\"outlinewidth\":0,\"ticks\":\"\"}}],\"scatter\":[{\"fillpattern\":{\"fillmode\":\"overlay\",\"size\":10,\"solidity\":0.2},\"type\":\"scatter\"}],\"parcoords\":[{\"type\":\"parcoords\",\"line\":{\"colorbar\":{\"outlinewidth\":0,\"ticks\":\"\"}}}],\"scatterpolargl\":[{\"type\":\"scatterpolargl\",\"marker\":{\"colorbar\":{\"outlinewidth\":0,\"ticks\":\"\"}}}],\"bar\":[{\"error_x\":{\"color\":\"#2a3f5f\"},\"error_y\":{\"color\":\"#2a3f5f\"},\"marker\":{\"line\":{\"color\":\"#E5ECF6\",\"width\":0.5},\"pattern\":{\"fillmode\":\"overlay\",\"size\":10,\"solidity\":0.2}},\"type\":\"bar\"}],\"scattergeo\":[{\"type\":\"scattergeo\",\"marker\":{\"colorbar\":{\"outlinewidth\":0,\"ticks\":\"\"}}}],\"scatterpolar\":[{\"type\":\"scatterpolar\",\"marker\":{\"colorbar\":{\"outlinewidth\":0,\"ticks\":\"\"}}}],\"histogram\":[{\"marker\":{\"pattern\":{\"fillmode\":\"overlay\",\"size\":10,\"solidity\":0.2}},\"type\":\"histogram\"}],\"scattergl\":[{\"type\":\"scattergl\",\"marker\":{\"colorbar\":{\"outlinewidth\":0,\"ticks\":\"\"}}}],\"scatter3d\":[{\"type\":\"scatter3d\",\"line\":{\"colorbar\":{\"outlinewidth\":0,\"ticks\":\"\"}},\"marker\":{\"colorbar\":{\"outlinewidth\":0,\"ticks\":\"\"}}}],\"scattermapbox\":[{\"type\":\"scattermapbox\",\"marker\":{\"colorbar\":{\"outlinewidth\":0,\"ticks\":\"\"}}}],\"scatterternary\":[{\"type\":\"scatterternary\",\"marker\":{\"colorbar\":{\"outlinewidth\":0,\"ticks\":\"\"}}}],\"scattercarpet\":[{\"type\":\"scattercarpet\",\"marker\":{\"colorbar\":{\"outlinewidth\":0,\"ticks\":\"\"}}}],\"carpet\":[{\"aaxis\":{\"endlinecolor\":\"#2a3f5f\",\"gridcolor\":\"white\",\"linecolor\":\"white\",\"minorgridcolor\":\"white\",\"startlinecolor\":\"#2a3f5f\"},\"baxis\":{\"endlinecolor\":\"#2a3f5f\",\"gridcolor\":\"white\",\"linecolor\":\"white\",\"minorgridcolor\":\"white\",\"startlinecolor\":\"#2a3f5f\"},\"type\":\"carpet\"}],\"table\":[{\"cells\":{\"fill\":{\"color\":\"#EBF0F8\"},\"line\":{\"color\":\"white\"}},\"header\":{\"fill\":{\"color\":\"#C8D4E3\"},\"line\":{\"color\":\"white\"}},\"type\":\"table\"}],\"barpolar\":[{\"marker\":{\"line\":{\"color\":\"#E5ECF6\",\"width\":0.5},\"pattern\":{\"fillmode\":\"overlay\",\"size\":10,\"solidity\":0.2}},\"type\":\"barpolar\"}],\"pie\":[{\"automargin\":true,\"type\":\"pie\"}]},\"layout\":{\"autotypenumbers\":\"strict\",\"colorway\":[\"#636efa\",\"#EF553B\",\"#00cc96\",\"#ab63fa\",\"#FFA15A\",\"#19d3f3\",\"#FF6692\",\"#B6E880\",\"#FF97FF\",\"#FECB52\"],\"font\":{\"color\":\"#2a3f5f\"},\"hovermode\":\"closest\",\"hoverlabel\":{\"align\":\"left\"},\"paper_bgcolor\":\"white\",\"plot_bgcolor\":\"#E5ECF6\",\"polar\":{\"bgcolor\":\"#E5ECF6\",\"angularaxis\":{\"gridcolor\":\"white\",\"linecolor\":\"white\",\"ticks\":\"\"},\"radialaxis\":{\"gridcolor\":\"white\",\"linecolor\":\"white\",\"ticks\":\"\"}},\"ternary\":{\"bgcolor\":\"#E5ECF6\",\"aaxis\":{\"gridcolor\":\"white\",\"linecolor\":\"white\",\"ticks\":\"\"},\"baxis\":{\"gridcolor\":\"white\",\"linecolor\":\"white\",\"ticks\":\"\"},\"caxis\":{\"gridcolor\":\"white\",\"linecolor\":\"white\",\"ticks\":\"\"}},\"coloraxis\":{\"colorbar\":{\"outlinewidth\":0,\"ticks\":\"\"}},\"colorscale\":{\"sequential\":[[0.0,\"#0d0887\"],[0.1111111111111111,\"#46039f\"],[0.2222222222222222,\"#7201a8\"],[0.3333333333333333,\"#9c179e\"],[0.4444444444444444,\"#bd3786\"],[0.5555555555555556,\"#d8576b\"],[0.6666666666666666,\"#ed7953\"],[0.7777777777777778,\"#fb9f3a\"],[0.8888888888888888,\"#fdca26\"],[1.0,\"#f0f921\"]],\"sequentialminus\":[[0.0,\"#0d0887\"],[0.1111111111111111,\"#46039f\"],[0.2222222222222222,\"#7201a8\"],[0.3333333333333333,\"#9c179e\"],[0.4444444444444444,\"#bd3786\"],[0.5555555555555556,\"#d8576b\"],[0.6666666666666666,\"#ed7953\"],[0.7777777777777778,\"#fb9f3a\"],[0.8888888888888888,\"#fdca26\"],[1.0,\"#f0f921\"]],\"diverging\":[[0,\"#8e0152\"],[0.1,\"#c51b7d\"],[0.2,\"#de77ae\"],[0.3,\"#f1b6da\"],[0.4,\"#fde0ef\"],[0.5,\"#f7f7f7\"],[0.6,\"#e6f5d0\"],[0.7,\"#b8e186\"],[0.8,\"#7fbc41\"],[0.9,\"#4d9221\"],[1,\"#276419\"]]},\"xaxis\":{\"gridcolor\":\"white\",\"linecolor\":\"white\",\"ticks\":\"\",\"title\":{\"standoff\":15},\"zerolinecolor\":\"white\",\"automargin\":true,\"zerolinewidth\":2},\"yaxis\":{\"gridcolor\":\"white\",\"linecolor\":\"white\",\"ticks\":\"\",\"title\":{\"standoff\":15},\"zerolinecolor\":\"white\",\"automargin\":true,\"zerolinewidth\":2},\"scene\":{\"xaxis\":{\"backgroundcolor\":\"#E5ECF6\",\"gridcolor\":\"white\",\"linecolor\":\"white\",\"showbackground\":true,\"ticks\":\"\",\"zerolinecolor\":\"white\",\"gridwidth\":2},\"yaxis\":{\"backgroundcolor\":\"#E5ECF6\",\"gridcolor\":\"white\",\"linecolor\":\"white\",\"showbackground\":true,\"ticks\":\"\",\"zerolinecolor\":\"white\",\"gridwidth\":2},\"zaxis\":{\"backgroundcolor\":\"#E5ECF6\",\"gridcolor\":\"white\",\"linecolor\":\"white\",\"showbackground\":true,\"ticks\":\"\",\"zerolinecolor\":\"white\",\"gridwidth\":2}},\"shapedefaults\":{\"line\":{\"color\":\"#2a3f5f\"}},\"annotationdefaults\":{\"arrowcolor\":\"#2a3f5f\",\"arrowhead\":0,\"arrowwidth\":1},\"geo\":{\"bgcolor\":\"white\",\"landcolor\":\"#E5ECF6\",\"subunitcolor\":\"white\",\"showland\":true,\"showlakes\":true,\"lakecolor\":\"white\"},\"title\":{\"x\":0.05},\"mapbox\":{\"style\":\"light\"}}},\"xaxis\":{\"anchor\":\"y\",\"domain\":[0.0,0.255],\"showgrid\":true,\"gridcolor\":\"lightgrey\",\"linecolor\":\"black\",\"linewidth\":1,\"mirror\":true,\"tickmode\":\"linear\",\"dtick\":1},\"yaxis\":{\"anchor\":\"x\",\"domain\":[0.0,1.0],\"showgrid\":true,\"gridcolor\":\"lightgrey\",\"gridwidth\":0.1,\"linecolor\":\"black\",\"linewidth\":1,\"mirror\":true,\"zeroline\":true,\"zerolinecolor\":\"lightgrey\",\"zerolinewidth\":0.1},\"xaxis2\":{\"anchor\":\"y2\",\"domain\":[0.305,0.475],\"showgrid\":true,\"gridcolor\":\"lightgrey\",\"linecolor\":\"black\",\"linewidth\":1,\"mirror\":true,\"tickmode\":\"linear\",\"dtick\":1},\"yaxis2\":{\"anchor\":\"x2\",\"domain\":[0.0,1.0],\"showgrid\":true,\"gridcolor\":\"lightgrey\",\"gridwidth\":0.1,\"linecolor\":\"black\",\"linewidth\":1,\"mirror\":true,\"zeroline\":true,\"zerolinecolor\":\"lightgrey\",\"zerolinewidth\":0.1},\"xaxis3\":{\"anchor\":\"y3\",\"domain\":[0.525,0.78],\"showgrid\":true,\"gridcolor\":\"lightgrey\",\"linecolor\":\"black\",\"linewidth\":1,\"mirror\":true,\"tickmode\":\"linear\",\"dtick\":1},\"yaxis3\":{\"anchor\":\"x3\",\"domain\":[0.0,1.0],\"showgrid\":true,\"gridcolor\":\"lightgrey\",\"gridwidth\":0.1,\"linecolor\":\"black\",\"linewidth\":1,\"mirror\":true,\"zeroline\":true,\"zerolinecolor\":\"lightgrey\",\"zerolinewidth\":0.1},\"xaxis4\":{\"anchor\":\"y4\",\"domain\":[0.8300000000000001,1.0],\"showgrid\":true,\"gridcolor\":\"lightgrey\",\"linecolor\":\"black\",\"linewidth\":1,\"mirror\":true,\"tickmode\":\"linear\",\"dtick\":1},\"yaxis4\":{\"anchor\":\"x4\",\"domain\":[0.0,1.0],\"showgrid\":true,\"gridcolor\":\"lightgrey\",\"gridwidth\":0.1,\"linecolor\":\"black\",\"linewidth\":1,\"mirror\":true,\"zeroline\":true,\"zerolinecolor\":\"lightgrey\",\"zerolinewidth\":0.1},\"margin\":{\"t\":90,\"l\":0,\"r\":0,\"b\":70},\"boxmode\":\"group\",\"height\":350,\"width\":1000,\"showlegend\":false,\"plot_bgcolor\":\"white\",\"paper_bgcolor\":\"white\",\"boxgroupgap\":0.25,\"boxgap\":0.6,\"annotations\":[{\"align\":\"center\",\"font\":{\"color\":\"black\",\"family\":\"Arial, sans-serif\",\"size\":16},\"showarrow\":false,\"text\":\"Local Power\",\"x\":2.5,\"xanchor\":\"center\",\"xref\":\"x\",\"y\":1.01,\"yanchor\":\"bottom\",\"yref\":\"paper\"},{\"align\":\"center\",\"font\":{\"color\":\"black\",\"family\":\"Arial, sans-serif\",\"size\":16},\"showarrow\":false,\"text\":\"Local Log Ratio\",\"x\":2.5,\"xanchor\":\"center\",\"xref\":\"x2\",\"y\":1.01,\"yanchor\":\"bottom\",\"yref\":\"paper\"},{\"align\":\"center\",\"font\":{\"color\":\"black\",\"family\":\"Arial, sans-serif\",\"size\":16},\"showarrow\":false,\"text\":\"CQR Power\",\"x\":2.5,\"xanchor\":\"center\",\"xref\":\"x3\",\"y\":1.01,\"yanchor\":\"bottom\",\"yref\":\"paper\"},{\"align\":\"center\",\"font\":{\"color\":\"black\",\"family\":\"Arial, sans-serif\",\"size\":16},\"showarrow\":false,\"text\":\"CQR Log Ratio\",\"x\":2.5,\"xanchor\":\"center\",\"xref\":\"x4\",\"y\":1.01,\"yanchor\":\"bottom\",\"yref\":\"paper\"},{\"font\":{\"size\":14},\"showarrow\":false,\"text\":\"Classical\",\"x\":0.36,\"xanchor\":\"left\",\"xref\":\"paper\",\"y\":1.275,\"yanchor\":\"middle\",\"yref\":\"paper\"},{\"font\":{\"size\":14},\"showarrow\":false,\"text\":\"Boosted\",\"x\":0.48,\"xanchor\":\"left\",\"xref\":\"paper\",\"y\":1.275,\"yanchor\":\"middle\",\"yref\":\"paper\"},{\"font\":{\"size\":14},\"showarrow\":false,\"text\":\"Log Ratio\",\"x\":0.5900000000000001,\"xanchor\":\"left\",\"xref\":\"paper\",\"y\":1.275,\"yanchor\":\"middle\",\"yref\":\"paper\"},{\"font\":{\"size\":14},\"showarrow\":false,\"text\":\"regression tree leaf\",\"x\":0.4,\"xanchor\":\"left\",\"xref\":\"paper\",\"y\":-0.2,\"yanchor\":\"middle\",\"yref\":\"paper\"}],\"shapes\":[{\"fillcolor\":\"lightgray\",\"line\":{\"color\":\"black\",\"width\":1},\"type\":\"rect\",\"x0\":-0.0005,\"x1\":0.2555,\"xref\":\"paper\",\"y0\":1,\"y1\":1.15,\"yref\":\"paper\"},{\"fillcolor\":\"lightgray\",\"line\":{\"color\":\"black\",\"width\":1},\"type\":\"rect\",\"x0\":0.3044,\"x1\":0.4755,\"xref\":\"paper\",\"y0\":1,\"y1\":1.15,\"yref\":\"paper\"},{\"fillcolor\":\"lightgray\",\"line\":{\"color\":\"black\",\"width\":1},\"type\":\"rect\",\"x0\":0.5244,\"x1\":0.7804,\"xref\":\"paper\",\"y0\":1,\"y1\":1.15,\"yref\":\"paper\"},{\"fillcolor\":\"lightgray\",\"line\":{\"color\":\"black\",\"width\":1},\"type\":\"rect\",\"x0\":0.8292,\"x1\":1.0003,\"xref\":\"paper\",\"y0\":1,\"y1\":1.15,\"yref\":\"paper\"},{\"fillcolor\":\"#6baed6\",\"line\":{\"color\":\"#6baed6\",\"width\":2},\"type\":\"rect\",\"x0\":0.32,\"x1\":0.35,\"xref\":\"paper\",\"y0\":1.25,\"y1\":1.3,\"yref\":\"paper\"},{\"fillcolor\":\"#fd8d3c\",\"line\":{\"color\":\"#fd8d3c\",\"width\":2},\"type\":\"rect\",\"x0\":0.44,\"x1\":0.47,\"xref\":\"paper\",\"y0\":1.25,\"y1\":1.3,\"yref\":\"paper\"},{\"fillcolor\":\"#31a354\",\"line\":{\"color\":\"#31a354\",\"width\":2},\"type\":\"rect\",\"x0\":0.55,\"x1\":0.5800000000000001,\"xref\":\"paper\",\"y0\":1.25,\"y1\":1.3,\"yref\":\"paper\"}]},                        {\"responsive\": true}                    ).then(function(){\n",
       "                            \n",
       "var gd = document.getElementById('29ab3155-95b4-4aca-9a55-daef58a899d1');\n",
       "var x = new MutationObserver(function (mutations, observer) {{\n",
       "        var display = window.getComputedStyle(gd).display;\n",
       "        if (!display || display === 'none') {{\n",
       "            console.log([gd, 'removed!']);\n",
       "            Plotly.purge(gd);\n",
       "            observer.disconnect();\n",
       "        }}\n",
       "}});\n",
       "\n",
       "// Listen for the removal of the full notebook cells\n",
       "var notebookContainer = gd.closest('#notebook-container');\n",
       "if (notebookContainer) {{\n",
       "    x.observe(notebookContainer, {childList: true});\n",
       "}}\n",
       "\n",
       "// Listen for the clearing of the current output cell\n",
       "var outputEl = gd.closest('.output');\n",
       "if (outputEl) {{\n",
       "    x.observe(outputEl, {childList: true});\n",
       "}}\n",
       "\n",
       "                        })                };                });            </script>        </div>"
      ]
     },
     "metadata": {},
     "output_type": "display_data"
    },
    {
     "data": {
      "image/png": "[encoded data removed]",
      "text/plain": [
       "<IPython.core.display.Image object>"
      ]
     },
     "execution_count": 10,
     "metadata": {},
     "output_type": "execute_result"
    }
   ],
   "source": [
    "#To save the figure, replace `path=False` with the desired directory path where the figure should be stored.\n",
    "plot_len(data_name,ratio,seed,results_local,results_cqr,path= 'Images/blog.png',scale=3)\n",
    "Image('Images/blog.png')"
   ]
  },
  {
   "cell_type": "code",
   "execution_count": null,
   "id": "52238aed",
   "metadata": {},
   "outputs": [],
   "source": []
  }
 ],
 "metadata": {
  "kernelspec": {
   "display_name": "Python 3 (ipykernel)",
   "language": "python",
   "name": "python3"
  },
  "language_info": {
   "codemirror_mode": {
    "name": "ipython",
    "version": 3
   },
   "file_extension": ".py",
   "mimetype": "text/x-python",
   "name": "python",
   "nbconvert_exporter": "python",
   "pygments_lexer": "ipython3",
   "version": "3.8.15"
  }
 },
 "nbformat": 4,
 "nbformat_minor": 5
}
